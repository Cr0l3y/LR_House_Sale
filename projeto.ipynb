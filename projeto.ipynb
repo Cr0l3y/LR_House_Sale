{
 "cells": [
  {
   "cell_type": "markdown",
   "metadata": {},
   "source": [
    "Dados: Vendas de casas baseado em caracteristicas"
   ]
  },
  {
   "cell_type": "code",
   "execution_count": 4,
   "metadata": {},
   "outputs": [
    {
     "name": "stdout",
     "output_type": "stream",
     "text": [
      "<class 'pandas.core.frame.DataFrame'>\n",
      "RangeIndex: 1438 entries, 0 to 1437\n",
      "Data columns (total 8 columns):\n",
      " #   Column                          Non-Null Count  Dtype  \n",
      "---  ------                          --------------  -----  \n",
      " 0   Id                              1438 non-null   int64  \n",
      " 1   area_primeiro_andar             1438 non-null   float64\n",
      " 2   existe_segundo_andar            1438 non-null   int64  \n",
      " 3   area_segundo_andar              1438 non-null   float64\n",
      " 4   quantidade_banheiros            1438 non-null   int64  \n",
      " 5   capacidade_carros_garagem       1438 non-null   int64  \n",
      " 6   qualidade_da_cozinha_Excelente  1438 non-null   int64  \n",
      " 7   preco_de_venda                  1438 non-null   float64\n",
      "dtypes: float64(3), int64(5)\n",
      "memory usage: 90.0 KB\n"
     ]
    }
   ],
   "source": [
    "import pandas as pd\n",
    "\n",
    "dados = pd.read_csv(\"Preços_de_casas.csv\")\n",
    "dados.info()"
   ]
  },
  {
   "cell_type": "code",
   "execution_count": 5,
   "metadata": {},
   "outputs": [
    {
     "name": "stdout",
     "output_type": "stream",
     "text": [
      "<class 'pandas.core.frame.DataFrame'>\n",
      "RangeIndex: 1438 entries, 0 to 1437\n",
      "Data columns (total 7 columns):\n",
      " #   Column                          Non-Null Count  Dtype  \n",
      "---  ------                          --------------  -----  \n",
      " 0   area_primeiro_andar             1438 non-null   float64\n",
      " 1   existe_segundo_andar            1438 non-null   int64  \n",
      " 2   area_segundo_andar              1438 non-null   float64\n",
      " 3   quantidade_banheiros            1438 non-null   int64  \n",
      " 4   capacidade_carros_garagem       1438 non-null   int64  \n",
      " 5   qualidade_da_cozinha_Excelente  1438 non-null   int64  \n",
      " 6   preco_de_venda                  1438 non-null   float64\n",
      "dtypes: float64(3), int64(4)\n",
      "memory usage: 78.8 KB\n"
     ]
    }
   ],
   "source": [
    "#Removendo ID ja que não vai ser relevante pra analise\n",
    "dados = dados.drop(columns=\"Id\")\n",
    "dados.info()"
   ]
  }
 ],
 "metadata": {
  "kernelspec": {
   "display_name": "Python 3",
   "language": "python",
   "name": "python3"
  },
  "language_info": {
   "codemirror_mode": {
    "name": "ipython",
    "version": 3
   },
   "file_extension": ".py",
   "mimetype": "text/x-python",
   "name": "python",
   "nbconvert_exporter": "python",
   "pygments_lexer": "ipython3",
   "version": "3.13.1"
  }
 },
 "nbformat": 4,
 "nbformat_minor": 2
}
